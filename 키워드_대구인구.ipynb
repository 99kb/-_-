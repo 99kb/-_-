{
 "cells": [
  {
   "cell_type": "code",
   "execution_count": 1,
   "metadata": {},
   "outputs": [
    {
     "name": "stderr",
     "output_type": "stream",
     "text": [
      "C:\\Users\\user\\anaconda3\\lib\\site-packages\\openpyxl\\styles\\stylesheet.py:226: UserWarning: Workbook contains no default style, apply openpyxl's default\n",
      "  warn(\"Workbook contains no default style, apply openpyxl's default\")\n"
     ]
    }
   ],
   "source": [
    "import pandas as pd\n",
    "import numpy as np\n",
    "import networkx as nx\n",
    "import matplotlib.pyplot as plt\n",
    "from wordcloud import WordCloud\n",
    "from collections import Counter\n",
    "# from konlpy.tag import Okt\n",
    "df = pd.read_excel(\"2011_2020 대구인구(not 코로나).xlsx\")\n",
    "df2 = pd.read_excel(\"2011_2020 대구인구(not 코로나)_2.xlsx\")"
   ]
  },
  {
   "cell_type": "code",
   "execution_count": 2,
   "metadata": {},
   "outputs": [],
   "source": [
    "df= pd.concat([df,df2])"
   ]
  },
  {
   "cell_type": "code",
   "execution_count": 3,
   "metadata": {},
   "outputs": [],
   "source": [
    "stop_words=['대표','인구','통합','집중','기관','유치','정부','산업','의원','주민','기업','규모','부족','진행','포인트','기록','논의','응답','중심','논의','평가','시장','후보','지원','광역','가능','선거','지지',\n",
    "            '비율','기준','평균','수준','도시','사회','증가','감소','생각','가구','사람','여성','전망','운영','국민','추진','결과','조사','정도','계획','발전','대비','시작','통계청','비중','확대','수도',\n",
    "            '한국','지역','우리나라','전국','지방','국가','지자체','대구','서울','부산','경북','울산','전남','경기','광주','한국','코로나','국회의원','경쟁력','그동안','일본','중국','미국','미래','등록','방식','포함',\n",
    "            '65세','통계청','관계자','만큼','1만','2만','3만','1천','2천','3천','10만','코로나19','5만','위원회','지자체','새누리당','정의당','광역시','국회','통계','방안','지사','포함'\n",
    "            '수도','상황','예정','대상','조성','대표','시설','반대','선정','대통령','구축','여론','상승','군위','공동','지정','상승','마련','의견','효과','지적','공공','의견','총선','강조',\n",
    "            '한국당','더불어민주당','문재인','부여','홈페이지','리얼미터','민주당','1위','지역구','선거구','지지층','지지율','공무원','위원장','안철수','사람들','가능성','감염','행정통합','확진자','법안',\n",
    "            '울산','대구','부산','전남','대구시','경북','광주','전북','경남','충남','강원','경북도','제주','충북','달성군','달서구','대구경북','대한민국','한국','우리나라','공항','앵커',\"한국당\",\n",
    "            '충청','호남','영남','대구경북','구미','서울','수도권','인천','세종시','포항','청주','충주','세종','춘천','수원','전주','창원','중구','동구','남구','수성구','대전']\n",
    "years=[]\n",
    "for year in range(2011,2021):\n",
    "    years.append(year)\n",
    "    df_1 = df[df[\"일자\"] // 10000 == year]\n",
    "    df_1 = df[df[\"일자\"] // 10000 == year]\n",
    "    tmp = df_1[\"키워드\"].apply(lambda x: str(x).split(','))\n",
    "    cont = []\n",
    "    for i in range(len(tmp)):\n",
    "        cont.append([word for word in tmp.iloc[i] if word not in stop_words])\n",
    "    tmp2 = pd.Series(cont)\n",
    "    df_words = [word for words in tmp for word in words if word not in stop_words]\n",
    "    df_keyword=pd.DataFrame(Counter(df_words).most_common())\n",
    "    a=df_keyword[1]\n",
    "    a.index=df_keyword[0]\n",
    "    globals()['키워드{}'.format(year)]= pd.DataFrame(a)\n",
    "key_2020 = 키워드2020.head(100).index  \n",
    "all =pd.DataFrame()\n",
    "for year in range(2011,2021):\n",
    "    all=  pd.concat([all,globals()['키워드{}'.format(year)].loc[key_2020,:]],axis=1)\n",
    "all.columns=years\n",
    "    \n",
    "all.to_csv(f\"대구인구_Top100.csv\", encoding= \"utf-8-sig\")"
   ]
  },
  {
   "cell_type": "code",
   "execution_count": null,
   "metadata": {},
   "outputs": [],
   "source": []
  }
 ],
 "metadata": {
  "interpreter": {
   "hash": "6d46af94c2bbce495f1e668725902fa517c90b1782bcfe2fce0dd9868df553d3"
  },
  "kernelspec": {
   "display_name": "Python 3.8.8 64-bit ('base': conda)",
   "name": "python3"
  },
  "language_info": {
   "codemirror_mode": {
    "name": "ipython",
    "version": 3
   },
   "file_extension": ".py",
   "mimetype": "text/x-python",
   "name": "python",
   "nbconvert_exporter": "python",
   "pygments_lexer": "ipython3",
   "version": "3.8.12"
  },
  "orig_nbformat": 4
 },
 "nbformat": 4,
 "nbformat_minor": 2
}
